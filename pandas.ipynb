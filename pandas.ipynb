{
  "nbformat": 4,
  "nbformat_minor": 0,
  "metadata": {
    "colab": {
      "provenance": []
    },
    "kernelspec": {
      "name": "python3",
      "display_name": "Python 3"
    },
    "language_info": {
      "name": "python"
    }
  },
  "cells": [
    {
      "cell_type": "markdown",
      "source": [
        "##Importing Libraries & Loading Data\n"
      ],
      "metadata": {
        "id": "iPgmsWLP06M4"
      }
    },
    {
      "cell_type": "code",
      "execution_count": 4,
      "metadata": {
        "colab": {
          "base_uri": "https://localhost:8080/",
          "height": 275
        },
        "id": "7wPbG43901JV",
        "outputId": "afca7c63-53b1-4b62-d7b9-1882a9769565"
      },
      "outputs": [
        {
          "output_type": "execute_result",
          "data": {
            "text/plain": [
              "    Id  SepalLengthCm  SepalWidthCm  PetalLengthCm PetalWidthCm      Species\n",
              "0  1.0            5.1           3.5            1.4          0.2  Iris-setosa\n",
              "1  0.9            3.0           1.4            0.2  Iris-setosa          NaN\n",
              "2  3.0            4.7           3.2            1.3          0.2  Iris-setosa\n",
              "3  4.0            4.6           3.1            1.5          0.2  Iris-setosa\n",
              "4  5.0            5.0           3.6            NaN          0.2  Iris-setosa"
            ],
            "text/html": [
              "\n",
              "  <div id=\"df-c3d0edd9-f41e-47c1-90b9-f2caf0a23b73\" class=\"colab-df-container\">\n",
              "    <div>\n",
              "<style scoped>\n",
              "    .dataframe tbody tr th:only-of-type {\n",
              "        vertical-align: middle;\n",
              "    }\n",
              "\n",
              "    .dataframe tbody tr th {\n",
              "        vertical-align: top;\n",
              "    }\n",
              "\n",
              "    .dataframe thead th {\n",
              "        text-align: right;\n",
              "    }\n",
              "</style>\n",
              "<table border=\"1\" class=\"dataframe\">\n",
              "  <thead>\n",
              "    <tr style=\"text-align: right;\">\n",
              "      <th></th>\n",
              "      <th>Id</th>\n",
              "      <th>SepalLengthCm</th>\n",
              "      <th>SepalWidthCm</th>\n",
              "      <th>PetalLengthCm</th>\n",
              "      <th>PetalWidthCm</th>\n",
              "      <th>Species</th>\n",
              "    </tr>\n",
              "  </thead>\n",
              "  <tbody>\n",
              "    <tr>\n",
              "      <th>0</th>\n",
              "      <td>1.0</td>\n",
              "      <td>5.1</td>\n",
              "      <td>3.5</td>\n",
              "      <td>1.4</td>\n",
              "      <td>0.2</td>\n",
              "      <td>Iris-setosa</td>\n",
              "    </tr>\n",
              "    <tr>\n",
              "      <th>1</th>\n",
              "      <td>0.9</td>\n",
              "      <td>3.0</td>\n",
              "      <td>1.4</td>\n",
              "      <td>0.2</td>\n",
              "      <td>Iris-setosa</td>\n",
              "      <td>NaN</td>\n",
              "    </tr>\n",
              "    <tr>\n",
              "      <th>2</th>\n",
              "      <td>3.0</td>\n",
              "      <td>4.7</td>\n",
              "      <td>3.2</td>\n",
              "      <td>1.3</td>\n",
              "      <td>0.2</td>\n",
              "      <td>Iris-setosa</td>\n",
              "    </tr>\n",
              "    <tr>\n",
              "      <th>3</th>\n",
              "      <td>4.0</td>\n",
              "      <td>4.6</td>\n",
              "      <td>3.1</td>\n",
              "      <td>1.5</td>\n",
              "      <td>0.2</td>\n",
              "      <td>Iris-setosa</td>\n",
              "    </tr>\n",
              "    <tr>\n",
              "      <th>4</th>\n",
              "      <td>5.0</td>\n",
              "      <td>5.0</td>\n",
              "      <td>3.6</td>\n",
              "      <td>NaN</td>\n",
              "      <td>0.2</td>\n",
              "      <td>Iris-setosa</td>\n",
              "    </tr>\n",
              "  </tbody>\n",
              "</table>\n",
              "</div>\n",
              "    <div class=\"colab-df-buttons\">\n",
              "\n",
              "  <div class=\"colab-df-container\">\n",
              "    <button class=\"colab-df-convert\" onclick=\"convertToInteractive('df-c3d0edd9-f41e-47c1-90b9-f2caf0a23b73')\"\n",
              "            title=\"Convert this dataframe to an interactive table.\"\n",
              "            style=\"display:none;\">\n",
              "\n",
              "  <svg xmlns=\"http://www.w3.org/2000/svg\" height=\"24px\" viewBox=\"0 -960 960 960\">\n",
              "    <path d=\"M120-120v-720h720v720H120Zm60-500h600v-160H180v160Zm220 220h160v-160H400v160Zm0 220h160v-160H400v160ZM180-400h160v-160H180v160Zm440 0h160v-160H620v160ZM180-180h160v-160H180v160Zm440 0h160v-160H620v160Z\"/>\n",
              "  </svg>\n",
              "    </button>\n",
              "\n",
              "  <style>\n",
              "    .colab-df-container {\n",
              "      display:flex;\n",
              "      gap: 12px;\n",
              "    }\n",
              "\n",
              "    .colab-df-convert {\n",
              "      background-color: #E8F0FE;\n",
              "      border: none;\n",
              "      border-radius: 50%;\n",
              "      cursor: pointer;\n",
              "      display: none;\n",
              "      fill: #1967D2;\n",
              "      height: 32px;\n",
              "      padding: 0 0 0 0;\n",
              "      width: 32px;\n",
              "    }\n",
              "\n",
              "    .colab-df-convert:hover {\n",
              "      background-color: #E2EBFA;\n",
              "      box-shadow: 0px 1px 2px rgba(60, 64, 67, 0.3), 0px 1px 3px 1px rgba(60, 64, 67, 0.15);\n",
              "      fill: #174EA6;\n",
              "    }\n",
              "\n",
              "    .colab-df-buttons div {\n",
              "      margin-bottom: 4px;\n",
              "    }\n",
              "\n",
              "    [theme=dark] .colab-df-convert {\n",
              "      background-color: #3B4455;\n",
              "      fill: #D2E3FC;\n",
              "    }\n",
              "\n",
              "    [theme=dark] .colab-df-convert:hover {\n",
              "      background-color: #434B5C;\n",
              "      box-shadow: 0px 1px 3px 1px rgba(0, 0, 0, 0.15);\n",
              "      filter: drop-shadow(0px 1px 2px rgba(0, 0, 0, 0.3));\n",
              "      fill: #FFFFFF;\n",
              "    }\n",
              "  </style>\n",
              "\n",
              "    <script>\n",
              "      const buttonEl =\n",
              "        document.querySelector('#df-c3d0edd9-f41e-47c1-90b9-f2caf0a23b73 button.colab-df-convert');\n",
              "      buttonEl.style.display =\n",
              "        google.colab.kernel.accessAllowed ? 'block' : 'none';\n",
              "\n",
              "      async function convertToInteractive(key) {\n",
              "        const element = document.querySelector('#df-c3d0edd9-f41e-47c1-90b9-f2caf0a23b73');\n",
              "        const dataTable =\n",
              "          await google.colab.kernel.invokeFunction('convertToInteractive',\n",
              "                                                    [key], {});\n",
              "        if (!dataTable) return;\n",
              "\n",
              "        const docLinkHtml = 'Like what you see? Visit the ' +\n",
              "          '<a target=\"_blank\" href=https://colab.research.google.com/notebooks/data_table.ipynb>data table notebook</a>'\n",
              "          + ' to learn more about interactive tables.';\n",
              "        element.innerHTML = '';\n",
              "        dataTable['output_type'] = 'display_data';\n",
              "        await google.colab.output.renderOutput(dataTable, element);\n",
              "        const docLink = document.createElement('div');\n",
              "        docLink.innerHTML = docLinkHtml;\n",
              "        element.appendChild(docLink);\n",
              "      }\n",
              "    </script>\n",
              "  </div>\n",
              "\n",
              "\n",
              "    <div id=\"df-d117ec9f-aa33-43f6-9b3c-e251d9069a72\">\n",
              "      <button class=\"colab-df-quickchart\" onclick=\"quickchart('df-d117ec9f-aa33-43f6-9b3c-e251d9069a72')\"\n",
              "                title=\"Suggest charts\"\n",
              "                style=\"display:none;\">\n",
              "\n",
              "<svg xmlns=\"http://www.w3.org/2000/svg\" height=\"24px\"viewBox=\"0 0 24 24\"\n",
              "     width=\"24px\">\n",
              "    <g>\n",
              "        <path d=\"M19 3H5c-1.1 0-2 .9-2 2v14c0 1.1.9 2 2 2h14c1.1 0 2-.9 2-2V5c0-1.1-.9-2-2-2zM9 17H7v-7h2v7zm4 0h-2V7h2v10zm4 0h-2v-4h2v4z\"/>\n",
              "    </g>\n",
              "</svg>\n",
              "      </button>\n",
              "\n",
              "<style>\n",
              "  .colab-df-quickchart {\n",
              "      --bg-color: #E8F0FE;\n",
              "      --fill-color: #1967D2;\n",
              "      --hover-bg-color: #E2EBFA;\n",
              "      --hover-fill-color: #174EA6;\n",
              "      --disabled-fill-color: #AAA;\n",
              "      --disabled-bg-color: #DDD;\n",
              "  }\n",
              "\n",
              "  [theme=dark] .colab-df-quickchart {\n",
              "      --bg-color: #3B4455;\n",
              "      --fill-color: #D2E3FC;\n",
              "      --hover-bg-color: #434B5C;\n",
              "      --hover-fill-color: #FFFFFF;\n",
              "      --disabled-bg-color: #3B4455;\n",
              "      --disabled-fill-color: #666;\n",
              "  }\n",
              "\n",
              "  .colab-df-quickchart {\n",
              "    background-color: var(--bg-color);\n",
              "    border: none;\n",
              "    border-radius: 50%;\n",
              "    cursor: pointer;\n",
              "    display: none;\n",
              "    fill: var(--fill-color);\n",
              "    height: 32px;\n",
              "    padding: 0;\n",
              "    width: 32px;\n",
              "  }\n",
              "\n",
              "  .colab-df-quickchart:hover {\n",
              "    background-color: var(--hover-bg-color);\n",
              "    box-shadow: 0 1px 2px rgba(60, 64, 67, 0.3), 0 1px 3px 1px rgba(60, 64, 67, 0.15);\n",
              "    fill: var(--button-hover-fill-color);\n",
              "  }\n",
              "\n",
              "  .colab-df-quickchart-complete:disabled,\n",
              "  .colab-df-quickchart-complete:disabled:hover {\n",
              "    background-color: var(--disabled-bg-color);\n",
              "    fill: var(--disabled-fill-color);\n",
              "    box-shadow: none;\n",
              "  }\n",
              "\n",
              "  .colab-df-spinner {\n",
              "    border: 2px solid var(--fill-color);\n",
              "    border-color: transparent;\n",
              "    border-bottom-color: var(--fill-color);\n",
              "    animation:\n",
              "      spin 1s steps(1) infinite;\n",
              "  }\n",
              "\n",
              "  @keyframes spin {\n",
              "    0% {\n",
              "      border-color: transparent;\n",
              "      border-bottom-color: var(--fill-color);\n",
              "      border-left-color: var(--fill-color);\n",
              "    }\n",
              "    20% {\n",
              "      border-color: transparent;\n",
              "      border-left-color: var(--fill-color);\n",
              "      border-top-color: var(--fill-color);\n",
              "    }\n",
              "    30% {\n",
              "      border-color: transparent;\n",
              "      border-left-color: var(--fill-color);\n",
              "      border-top-color: var(--fill-color);\n",
              "      border-right-color: var(--fill-color);\n",
              "    }\n",
              "    40% {\n",
              "      border-color: transparent;\n",
              "      border-right-color: var(--fill-color);\n",
              "      border-top-color: var(--fill-color);\n",
              "    }\n",
              "    60% {\n",
              "      border-color: transparent;\n",
              "      border-right-color: var(--fill-color);\n",
              "    }\n",
              "    80% {\n",
              "      border-color: transparent;\n",
              "      border-right-color: var(--fill-color);\n",
              "      border-bottom-color: var(--fill-color);\n",
              "    }\n",
              "    90% {\n",
              "      border-color: transparent;\n",
              "      border-bottom-color: var(--fill-color);\n",
              "    }\n",
              "  }\n",
              "</style>\n",
              "\n",
              "      <script>\n",
              "        async function quickchart(key) {\n",
              "          const quickchartButtonEl =\n",
              "            document.querySelector('#' + key + ' button');\n",
              "          quickchartButtonEl.disabled = true;  // To prevent multiple clicks.\n",
              "          quickchartButtonEl.classList.add('colab-df-spinner');\n",
              "          try {\n",
              "            const charts = await google.colab.kernel.invokeFunction(\n",
              "                'suggestCharts', [key], {});\n",
              "          } catch (error) {\n",
              "            console.error('Error during call to suggestCharts:', error);\n",
              "          }\n",
              "          quickchartButtonEl.classList.remove('colab-df-spinner');\n",
              "          quickchartButtonEl.classList.add('colab-df-quickchart-complete');\n",
              "        }\n",
              "        (() => {\n",
              "          let quickchartButtonEl =\n",
              "            document.querySelector('#df-d117ec9f-aa33-43f6-9b3c-e251d9069a72 button');\n",
              "          quickchartButtonEl.style.display =\n",
              "            google.colab.kernel.accessAllowed ? 'block' : 'none';\n",
              "        })();\n",
              "      </script>\n",
              "    </div>\n",
              "\n",
              "    </div>\n",
              "  </div>\n"
            ],
            "application/vnd.google.colaboratory.intrinsic+json": {
              "type": "dataframe",
              "variable_name": "df",
              "summary": "{\n  \"name\": \"df\",\n  \"rows\": 150,\n  \"fields\": [\n    {\n      \"column\": \"Id\",\n      \"properties\": {\n        \"dtype\": \"number\",\n        \"std\": 43.4579486580533,\n        \"min\": 0.9,\n        \"max\": 150.0,\n        \"num_unique_values\": 150,\n        \"samples\": [\n          74.0,\n          19.0,\n          119.0\n        ],\n        \"semantic_type\": \"\",\n        \"description\": \"\"\n      }\n    },\n    {\n      \"column\": \"SepalLengthCm\",\n      \"properties\": {\n        \"dtype\": \"number\",\n        \"std\": 0.8566319772918916,\n        \"min\": 3.0,\n        \"max\": 7.9,\n        \"num_unique_values\": 36,\n        \"samples\": [\n          7.9,\n          5.5,\n          6.7\n        ],\n        \"semantic_type\": \"\",\n        \"description\": \"\"\n      }\n    },\n    {\n      \"column\": \"SepalWidthCm\",\n      \"properties\": {\n        \"dtype\": \"number\",\n        \"std\": 0.45412600129912006,\n        \"min\": 1.4,\n        \"max\": 4.4,\n        \"num_unique_values\": 24,\n        \"samples\": [\n          3.7,\n          2.3,\n          3.5\n        ],\n        \"semantic_type\": \"\",\n        \"description\": \"\"\n      }\n    },\n    {\n      \"column\": \"PetalLengthCm\",\n      \"properties\": {\n        \"dtype\": \"number\",\n        \"std\": 1.7693934993087927,\n        \"min\": 0.2,\n        \"max\": 6.9,\n        \"num_unique_values\": 44,\n        \"samples\": [\n          5.5,\n          5.0,\n          3.8\n        ],\n        \"semantic_type\": \"\",\n        \"description\": \"\"\n      }\n    },\n    {\n      \"column\": \"PetalWidthCm\",\n      \"properties\": {\n        \"dtype\": \"category\",\n        \"num_unique_values\": 23,\n        \"samples\": [\n          \"1.7\",\n          \"1.3\",\n          \"0.2\"\n        ],\n        \"semantic_type\": \"\",\n        \"description\": \"\"\n      }\n    },\n    {\n      \"column\": \"Species\",\n      \"properties\": {\n        \"dtype\": \"category\",\n        \"num_unique_values\": 3,\n        \"samples\": [\n          \"Iris-setosa\",\n          \"Iris-versicolor\",\n          \"Iris-virginica\"\n        ],\n        \"semantic_type\": \"\",\n        \"description\": \"\"\n      }\n    }\n  ]\n}"
            }
          },
          "metadata": {},
          "execution_count": 4
        }
      ],
      "source": [
        "import pandas as pd\n",
        "#Load the Iris dataset\n",
        "df=pd.read_csv(\"Iris.csv\")\n",
        "#display the first 5 rows\n",
        "df.head()"
      ]
    },
    {
      "cell_type": "markdown",
      "source": [
        "##Basic Data Inspection"
      ],
      "metadata": {
        "id": "QqI9KYdW2vyI"
      }
    },
    {
      "cell_type": "code",
      "source": [
        "#Get a quick summary of the dataset\n",
        "df.info()"
      ],
      "metadata": {
        "colab": {
          "base_uri": "https://localhost:8080/"
        },
        "id": "1f29PCKO1d6v",
        "outputId": "9d002e1c-09d5-48d9-c393-3d6770ffba0a"
      },
      "execution_count": 5,
      "outputs": [
        {
          "output_type": "stream",
          "name": "stdout",
          "text": [
            "<class 'pandas.core.frame.DataFrame'>\n",
            "RangeIndex: 150 entries, 0 to 149\n",
            "Data columns (total 6 columns):\n",
            " #   Column         Non-Null Count  Dtype  \n",
            "---  ------         --------------  -----  \n",
            " 0   Id             150 non-null    float64\n",
            " 1   SepalLengthCm  150 non-null    float64\n",
            " 2   SepalWidthCm   150 non-null    float64\n",
            " 3   PetalLengthCm  148 non-null    float64\n",
            " 4   PetalWidthCm   150 non-null    object \n",
            " 5   Species        149 non-null    object \n",
            "dtypes: float64(4), object(2)\n",
            "memory usage: 7.2+ KB\n"
          ]
        }
      ]
    },
    {
      "cell_type": "code",
      "source": [
        "# Get statistical summary for numerical columns\n",
        "df.describe()"
      ],
      "metadata": {
        "colab": {
          "base_uri": "https://localhost:8080/",
          "height": 300
        },
        "id": "kQceQDgg1-6b",
        "outputId": "222a5d4e-bb98-4488-a6db-4bb5ab0aac8f"
      },
      "execution_count": 6,
      "outputs": [
        {
          "output_type": "execute_result",
          "data": {
            "text/plain": [
              "               Id  SepalLengthCm  SepalWidthCm  PetalLengthCm\n",
              "count  150.000000     150.000000    150.000000     148.000000\n",
              "mean    75.492667       5.830667      3.043333       3.781757\n",
              "std     43.457949       0.856632      0.454126       1.769393\n",
              "min      0.900000       3.000000      1.400000       0.200000\n",
              "25%     38.250000       5.100000      2.800000       1.600000\n",
              "50%     75.500000       5.800000      3.000000       4.400000\n",
              "75%    112.750000       6.400000      3.300000       5.100000\n",
              "max    150.000000       7.900000      4.400000       6.900000"
            ],
            "text/html": [
              "\n",
              "  <div id=\"df-25bf5767-373b-48a6-b72e-d62e536aac6d\" class=\"colab-df-container\">\n",
              "    <div>\n",
              "<style scoped>\n",
              "    .dataframe tbody tr th:only-of-type {\n",
              "        vertical-align: middle;\n",
              "    }\n",
              "\n",
              "    .dataframe tbody tr th {\n",
              "        vertical-align: top;\n",
              "    }\n",
              "\n",
              "    .dataframe thead th {\n",
              "        text-align: right;\n",
              "    }\n",
              "</style>\n",
              "<table border=\"1\" class=\"dataframe\">\n",
              "  <thead>\n",
              "    <tr style=\"text-align: right;\">\n",
              "      <th></th>\n",
              "      <th>Id</th>\n",
              "      <th>SepalLengthCm</th>\n",
              "      <th>SepalWidthCm</th>\n",
              "      <th>PetalLengthCm</th>\n",
              "    </tr>\n",
              "  </thead>\n",
              "  <tbody>\n",
              "    <tr>\n",
              "      <th>count</th>\n",
              "      <td>150.000000</td>\n",
              "      <td>150.000000</td>\n",
              "      <td>150.000000</td>\n",
              "      <td>148.000000</td>\n",
              "    </tr>\n",
              "    <tr>\n",
              "      <th>mean</th>\n",
              "      <td>75.492667</td>\n",
              "      <td>5.830667</td>\n",
              "      <td>3.043333</td>\n",
              "      <td>3.781757</td>\n",
              "    </tr>\n",
              "    <tr>\n",
              "      <th>std</th>\n",
              "      <td>43.457949</td>\n",
              "      <td>0.856632</td>\n",
              "      <td>0.454126</td>\n",
              "      <td>1.769393</td>\n",
              "    </tr>\n",
              "    <tr>\n",
              "      <th>min</th>\n",
              "      <td>0.900000</td>\n",
              "      <td>3.000000</td>\n",
              "      <td>1.400000</td>\n",
              "      <td>0.200000</td>\n",
              "    </tr>\n",
              "    <tr>\n",
              "      <th>25%</th>\n",
              "      <td>38.250000</td>\n",
              "      <td>5.100000</td>\n",
              "      <td>2.800000</td>\n",
              "      <td>1.600000</td>\n",
              "    </tr>\n",
              "    <tr>\n",
              "      <th>50%</th>\n",
              "      <td>75.500000</td>\n",
              "      <td>5.800000</td>\n",
              "      <td>3.000000</td>\n",
              "      <td>4.400000</td>\n",
              "    </tr>\n",
              "    <tr>\n",
              "      <th>75%</th>\n",
              "      <td>112.750000</td>\n",
              "      <td>6.400000</td>\n",
              "      <td>3.300000</td>\n",
              "      <td>5.100000</td>\n",
              "    </tr>\n",
              "    <tr>\n",
              "      <th>max</th>\n",
              "      <td>150.000000</td>\n",
              "      <td>7.900000</td>\n",
              "      <td>4.400000</td>\n",
              "      <td>6.900000</td>\n",
              "    </tr>\n",
              "  </tbody>\n",
              "</table>\n",
              "</div>\n",
              "    <div class=\"colab-df-buttons\">\n",
              "\n",
              "  <div class=\"colab-df-container\">\n",
              "    <button class=\"colab-df-convert\" onclick=\"convertToInteractive('df-25bf5767-373b-48a6-b72e-d62e536aac6d')\"\n",
              "            title=\"Convert this dataframe to an interactive table.\"\n",
              "            style=\"display:none;\">\n",
              "\n",
              "  <svg xmlns=\"http://www.w3.org/2000/svg\" height=\"24px\" viewBox=\"0 -960 960 960\">\n",
              "    <path d=\"M120-120v-720h720v720H120Zm60-500h600v-160H180v160Zm220 220h160v-160H400v160Zm0 220h160v-160H400v160ZM180-400h160v-160H180v160Zm440 0h160v-160H620v160ZM180-180h160v-160H180v160Zm440 0h160v-160H620v160Z\"/>\n",
              "  </svg>\n",
              "    </button>\n",
              "\n",
              "  <style>\n",
              "    .colab-df-container {\n",
              "      display:flex;\n",
              "      gap: 12px;\n",
              "    }\n",
              "\n",
              "    .colab-df-convert {\n",
              "      background-color: #E8F0FE;\n",
              "      border: none;\n",
              "      border-radius: 50%;\n",
              "      cursor: pointer;\n",
              "      display: none;\n",
              "      fill: #1967D2;\n",
              "      height: 32px;\n",
              "      padding: 0 0 0 0;\n",
              "      width: 32px;\n",
              "    }\n",
              "\n",
              "    .colab-df-convert:hover {\n",
              "      background-color: #E2EBFA;\n",
              "      box-shadow: 0px 1px 2px rgba(60, 64, 67, 0.3), 0px 1px 3px 1px rgba(60, 64, 67, 0.15);\n",
              "      fill: #174EA6;\n",
              "    }\n",
              "\n",
              "    .colab-df-buttons div {\n",
              "      margin-bottom: 4px;\n",
              "    }\n",
              "\n",
              "    [theme=dark] .colab-df-convert {\n",
              "      background-color: #3B4455;\n",
              "      fill: #D2E3FC;\n",
              "    }\n",
              "\n",
              "    [theme=dark] .colab-df-convert:hover {\n",
              "      background-color: #434B5C;\n",
              "      box-shadow: 0px 1px 3px 1px rgba(0, 0, 0, 0.15);\n",
              "      filter: drop-shadow(0px 1px 2px rgba(0, 0, 0, 0.3));\n",
              "      fill: #FFFFFF;\n",
              "    }\n",
              "  </style>\n",
              "\n",
              "    <script>\n",
              "      const buttonEl =\n",
              "        document.querySelector('#df-25bf5767-373b-48a6-b72e-d62e536aac6d button.colab-df-convert');\n",
              "      buttonEl.style.display =\n",
              "        google.colab.kernel.accessAllowed ? 'block' : 'none';\n",
              "\n",
              "      async function convertToInteractive(key) {\n",
              "        const element = document.querySelector('#df-25bf5767-373b-48a6-b72e-d62e536aac6d');\n",
              "        const dataTable =\n",
              "          await google.colab.kernel.invokeFunction('convertToInteractive',\n",
              "                                                    [key], {});\n",
              "        if (!dataTable) return;\n",
              "\n",
              "        const docLinkHtml = 'Like what you see? Visit the ' +\n",
              "          '<a target=\"_blank\" href=https://colab.research.google.com/notebooks/data_table.ipynb>data table notebook</a>'\n",
              "          + ' to learn more about interactive tables.';\n",
              "        element.innerHTML = '';\n",
              "        dataTable['output_type'] = 'display_data';\n",
              "        await google.colab.output.renderOutput(dataTable, element);\n",
              "        const docLink = document.createElement('div');\n",
              "        docLink.innerHTML = docLinkHtml;\n",
              "        element.appendChild(docLink);\n",
              "      }\n",
              "    </script>\n",
              "  </div>\n",
              "\n",
              "\n",
              "    <div id=\"df-a336100b-6a24-49c0-a3a5-97c250a38c69\">\n",
              "      <button class=\"colab-df-quickchart\" onclick=\"quickchart('df-a336100b-6a24-49c0-a3a5-97c250a38c69')\"\n",
              "                title=\"Suggest charts\"\n",
              "                style=\"display:none;\">\n",
              "\n",
              "<svg xmlns=\"http://www.w3.org/2000/svg\" height=\"24px\"viewBox=\"0 0 24 24\"\n",
              "     width=\"24px\">\n",
              "    <g>\n",
              "        <path d=\"M19 3H5c-1.1 0-2 .9-2 2v14c0 1.1.9 2 2 2h14c1.1 0 2-.9 2-2V5c0-1.1-.9-2-2-2zM9 17H7v-7h2v7zm4 0h-2V7h2v10zm4 0h-2v-4h2v4z\"/>\n",
              "    </g>\n",
              "</svg>\n",
              "      </button>\n",
              "\n",
              "<style>\n",
              "  .colab-df-quickchart {\n",
              "      --bg-color: #E8F0FE;\n",
              "      --fill-color: #1967D2;\n",
              "      --hover-bg-color: #E2EBFA;\n",
              "      --hover-fill-color: #174EA6;\n",
              "      --disabled-fill-color: #AAA;\n",
              "      --disabled-bg-color: #DDD;\n",
              "  }\n",
              "\n",
              "  [theme=dark] .colab-df-quickchart {\n",
              "      --bg-color: #3B4455;\n",
              "      --fill-color: #D2E3FC;\n",
              "      --hover-bg-color: #434B5C;\n",
              "      --hover-fill-color: #FFFFFF;\n",
              "      --disabled-bg-color: #3B4455;\n",
              "      --disabled-fill-color: #666;\n",
              "  }\n",
              "\n",
              "  .colab-df-quickchart {\n",
              "    background-color: var(--bg-color);\n",
              "    border: none;\n",
              "    border-radius: 50%;\n",
              "    cursor: pointer;\n",
              "    display: none;\n",
              "    fill: var(--fill-color);\n",
              "    height: 32px;\n",
              "    padding: 0;\n",
              "    width: 32px;\n",
              "  }\n",
              "\n",
              "  .colab-df-quickchart:hover {\n",
              "    background-color: var(--hover-bg-color);\n",
              "    box-shadow: 0 1px 2px rgba(60, 64, 67, 0.3), 0 1px 3px 1px rgba(60, 64, 67, 0.15);\n",
              "    fill: var(--button-hover-fill-color);\n",
              "  }\n",
              "\n",
              "  .colab-df-quickchart-complete:disabled,\n",
              "  .colab-df-quickchart-complete:disabled:hover {\n",
              "    background-color: var(--disabled-bg-color);\n",
              "    fill: var(--disabled-fill-color);\n",
              "    box-shadow: none;\n",
              "  }\n",
              "\n",
              "  .colab-df-spinner {\n",
              "    border: 2px solid var(--fill-color);\n",
              "    border-color: transparent;\n",
              "    border-bottom-color: var(--fill-color);\n",
              "    animation:\n",
              "      spin 1s steps(1) infinite;\n",
              "  }\n",
              "\n",
              "  @keyframes spin {\n",
              "    0% {\n",
              "      border-color: transparent;\n",
              "      border-bottom-color: var(--fill-color);\n",
              "      border-left-color: var(--fill-color);\n",
              "    }\n",
              "    20% {\n",
              "      border-color: transparent;\n",
              "      border-left-color: var(--fill-color);\n",
              "      border-top-color: var(--fill-color);\n",
              "    }\n",
              "    30% {\n",
              "      border-color: transparent;\n",
              "      border-left-color: var(--fill-color);\n",
              "      border-top-color: var(--fill-color);\n",
              "      border-right-color: var(--fill-color);\n",
              "    }\n",
              "    40% {\n",
              "      border-color: transparent;\n",
              "      border-right-color: var(--fill-color);\n",
              "      border-top-color: var(--fill-color);\n",
              "    }\n",
              "    60% {\n",
              "      border-color: transparent;\n",
              "      border-right-color: var(--fill-color);\n",
              "    }\n",
              "    80% {\n",
              "      border-color: transparent;\n",
              "      border-right-color: var(--fill-color);\n",
              "      border-bottom-color: var(--fill-color);\n",
              "    }\n",
              "    90% {\n",
              "      border-color: transparent;\n",
              "      border-bottom-color: var(--fill-color);\n",
              "    }\n",
              "  }\n",
              "</style>\n",
              "\n",
              "      <script>\n",
              "        async function quickchart(key) {\n",
              "          const quickchartButtonEl =\n",
              "            document.querySelector('#' + key + ' button');\n",
              "          quickchartButtonEl.disabled = true;  // To prevent multiple clicks.\n",
              "          quickchartButtonEl.classList.add('colab-df-spinner');\n",
              "          try {\n",
              "            const charts = await google.colab.kernel.invokeFunction(\n",
              "                'suggestCharts', [key], {});\n",
              "          } catch (error) {\n",
              "            console.error('Error during call to suggestCharts:', error);\n",
              "          }\n",
              "          quickchartButtonEl.classList.remove('colab-df-spinner');\n",
              "          quickchartButtonEl.classList.add('colab-df-quickchart-complete');\n",
              "        }\n",
              "        (() => {\n",
              "          let quickchartButtonEl =\n",
              "            document.querySelector('#df-a336100b-6a24-49c0-a3a5-97c250a38c69 button');\n",
              "          quickchartButtonEl.style.display =\n",
              "            google.colab.kernel.accessAllowed ? 'block' : 'none';\n",
              "        })();\n",
              "      </script>\n",
              "    </div>\n",
              "\n",
              "    </div>\n",
              "  </div>\n"
            ],
            "application/vnd.google.colaboratory.intrinsic+json": {
              "type": "dataframe",
              "summary": "{\n  \"name\": \"df\",\n  \"rows\": 8,\n  \"fields\": [\n    {\n      \"column\": \"Id\",\n      \"properties\": {\n        \"dtype\": \"number\",\n        \"std\": 53.77636400698189,\n        \"min\": 0.9,\n        \"max\": 150.0,\n        \"num_unique_values\": 7,\n        \"samples\": [\n          150.0,\n          75.49266666666666,\n          75.5\n        ],\n        \"semantic_type\": \"\",\n        \"description\": \"\"\n      }\n    },\n    {\n      \"column\": \"SepalLengthCm\",\n      \"properties\": {\n        \"dtype\": \"number\",\n        \"std\": 51.31671454540178,\n        \"min\": 0.8566319772918916,\n        \"max\": 150.0,\n        \"num_unique_values\": 8,\n        \"samples\": [\n          5.830666666666666,\n          5.8,\n          150.0\n        ],\n        \"semantic_type\": \"\",\n        \"description\": \"\"\n      }\n    },\n    {\n      \"column\": \"SepalWidthCm\",\n      \"properties\": {\n        \"dtype\": \"number\",\n        \"std\": 52.11773083182226,\n        \"min\": 0.45412600129912006,\n        \"max\": 150.0,\n        \"num_unique_values\": 8,\n        \"samples\": [\n          3.0433333333333334,\n          3.0,\n          150.0\n        ],\n        \"semantic_type\": \"\",\n        \"description\": \"\"\n      }\n    },\n    {\n      \"column\": \"PetalLengthCm\",\n      \"properties\": {\n        \"dtype\": \"number\",\n        \"std\": 51.171567490072725,\n        \"min\": 0.2,\n        \"max\": 148.0,\n        \"num_unique_values\": 8,\n        \"samples\": [\n          3.781756756756757,\n          4.4,\n          148.0\n        ],\n        \"semantic_type\": \"\",\n        \"description\": \"\"\n      }\n    }\n  ]\n}"
            }
          },
          "metadata": {},
          "execution_count": 6
        }
      ]
    },
    {
      "cell_type": "code",
      "source": [
        "#Check for missing values\n",
        "df.isnull().sum()"
      ],
      "metadata": {
        "colab": {
          "base_uri": "https://localhost:8080/",
          "height": 272
        },
        "id": "oCBx31rq2BgT",
        "outputId": "d9cf0ea6-e4bb-40d3-c95c-800460cea726"
      },
      "execution_count": 7,
      "outputs": [
        {
          "output_type": "execute_result",
          "data": {
            "text/plain": [
              "Id               0\n",
              "SepalLengthCm    0\n",
              "SepalWidthCm     0\n",
              "PetalLengthCm    2\n",
              "PetalWidthCm     0\n",
              "Species          1\n",
              "dtype: int64"
            ],
            "text/html": [
              "<div>\n",
              "<style scoped>\n",
              "    .dataframe tbody tr th:only-of-type {\n",
              "        vertical-align: middle;\n",
              "    }\n",
              "\n",
              "    .dataframe tbody tr th {\n",
              "        vertical-align: top;\n",
              "    }\n",
              "\n",
              "    .dataframe thead th {\n",
              "        text-align: right;\n",
              "    }\n",
              "</style>\n",
              "<table border=\"1\" class=\"dataframe\">\n",
              "  <thead>\n",
              "    <tr style=\"text-align: right;\">\n",
              "      <th></th>\n",
              "      <th>0</th>\n",
              "    </tr>\n",
              "  </thead>\n",
              "  <tbody>\n",
              "    <tr>\n",
              "      <th>Id</th>\n",
              "      <td>0</td>\n",
              "    </tr>\n",
              "    <tr>\n",
              "      <th>SepalLengthCm</th>\n",
              "      <td>0</td>\n",
              "    </tr>\n",
              "    <tr>\n",
              "      <th>SepalWidthCm</th>\n",
              "      <td>0</td>\n",
              "    </tr>\n",
              "    <tr>\n",
              "      <th>PetalLengthCm</th>\n",
              "      <td>2</td>\n",
              "    </tr>\n",
              "    <tr>\n",
              "      <th>PetalWidthCm</th>\n",
              "      <td>0</td>\n",
              "    </tr>\n",
              "    <tr>\n",
              "      <th>Species</th>\n",
              "      <td>1</td>\n",
              "    </tr>\n",
              "  </tbody>\n",
              "</table>\n",
              "</div><br><label><b>dtype:</b> int64</label>"
            ]
          },
          "metadata": {},
          "execution_count": 7
        }
      ]
    },
    {
      "cell_type": "code",
      "source": [
        "# List all unique species\n",
        "df['Species'].unique()"
      ],
      "metadata": {
        "colab": {
          "base_uri": "https://localhost:8080/"
        },
        "id": "k4fIY1Qt2MN6",
        "outputId": "c6b7dfbc-ea5c-4450-e1ff-4927c8dfe9a0"
      },
      "execution_count": 8,
      "outputs": [
        {
          "output_type": "execute_result",
          "data": {
            "text/plain": [
              "array(['Iris-setosa', nan, 'Iris-versicolor', 'Iris-virginica'],\n",
              "      dtype=object)"
            ]
          },
          "metadata": {},
          "execution_count": 8
        }
      ]
    },
    {
      "cell_type": "code",
      "source": [
        "# Count how many samples per species\n",
        "df['Species'].value_counts()"
      ],
      "metadata": {
        "colab": {
          "base_uri": "https://localhost:8080/",
          "height": 209
        },
        "id": "z_SpXwFn2ZaX",
        "outputId": "579211f9-3d8a-4b37-ec07-dbb82297d732"
      },
      "execution_count": 9,
      "outputs": [
        {
          "output_type": "execute_result",
          "data": {
            "text/plain": [
              "Species\n",
              "Iris-versicolor    50\n",
              "Iris-virginica     50\n",
              "Iris-setosa        49\n",
              "Name: count, dtype: int64"
            ],
            "text/html": [
              "<div>\n",
              "<style scoped>\n",
              "    .dataframe tbody tr th:only-of-type {\n",
              "        vertical-align: middle;\n",
              "    }\n",
              "\n",
              "    .dataframe tbody tr th {\n",
              "        vertical-align: top;\n",
              "    }\n",
              "\n",
              "    .dataframe thead th {\n",
              "        text-align: right;\n",
              "    }\n",
              "</style>\n",
              "<table border=\"1\" class=\"dataframe\">\n",
              "  <thead>\n",
              "    <tr style=\"text-align: right;\">\n",
              "      <th></th>\n",
              "      <th>count</th>\n",
              "    </tr>\n",
              "    <tr>\n",
              "      <th>Species</th>\n",
              "      <th></th>\n",
              "    </tr>\n",
              "  </thead>\n",
              "  <tbody>\n",
              "    <tr>\n",
              "      <th>Iris-versicolor</th>\n",
              "      <td>50</td>\n",
              "    </tr>\n",
              "    <tr>\n",
              "      <th>Iris-virginica</th>\n",
              "      <td>50</td>\n",
              "    </tr>\n",
              "    <tr>\n",
              "      <th>Iris-setosa</th>\n",
              "      <td>49</td>\n",
              "    </tr>\n",
              "  </tbody>\n",
              "</table>\n",
              "</div><br><label><b>dtype:</b> int64</label>"
            ]
          },
          "metadata": {},
          "execution_count": 9
        }
      ]
    },
    {
      "cell_type": "markdown",
      "source": [
        "##Data Cleaning"
      ],
      "metadata": {
        "id": "LBxoEvF_22YO"
      }
    },
    {
      "cell_type": "code",
      "source": [
        "# Option 1: Fill missing values with the mean of the column\n",
        "df['PetalLengthCm'].fillna(df['PetalLengthCm'].mean(), inplace=True)\n",
        "#Verify no more missing values\n",
        "print(df.isnull().sum())"
      ],
      "metadata": {
        "colab": {
          "base_uri": "https://localhost:8080/"
        },
        "id": "LSDgI8602iOI",
        "outputId": "e1c72fc5-1c88-4129-9600-1aaef68704de"
      },
      "execution_count": 11,
      "outputs": [
        {
          "output_type": "stream",
          "name": "stdout",
          "text": [
            "Id               0\n",
            "SepalLengthCm    0\n",
            "SepalWidthCm     0\n",
            "PetalLengthCm    0\n",
            "PetalWidthCm     0\n",
            "Species          1\n",
            "dtype: int64\n"
          ]
        },
        {
          "output_type": "stream",
          "name": "stderr",
          "text": [
            "/tmp/ipython-input-3437004669.py:2: FutureWarning: A value is trying to be set on a copy of a DataFrame or Series through chained assignment using an inplace method.\n",
            "The behavior will change in pandas 3.0. This inplace method will never work because the intermediate object on which we are setting values always behaves as a copy.\n",
            "\n",
            "For example, when doing 'df[col].method(value, inplace=True)', try using 'df.method({col: value}, inplace=True)' or df[col] = df[col].method(value) instead, to perform the operation inplace on the original object.\n",
            "\n",
            "\n",
            "  df['PetalLengthCm'].fillna(df['PetalLengthCm'].mean(), inplace=True)\n"
          ]
        }
      ]
    },
    {
      "cell_type": "markdown",
      "source": [
        "##Selecting & Filtering Data"
      ],
      "metadata": {
        "id": "jHRSkwib3gza"
      }
    },
    {
      "cell_type": "code",
      "source": [
        "#Select a single column (returns a Series)\n",
        "sepal_lengths = df['SepalLengthCm']\n",
        "print(sepal_lengths)\n"
      ],
      "metadata": {
        "colab": {
          "base_uri": "https://localhost:8080/"
        },
        "id": "NEBoPcO73Ovl",
        "outputId": "b72e3990-b9a0-4df8-88a5-a36b41276449"
      },
      "execution_count": 15,
      "outputs": [
        {
          "output_type": "stream",
          "name": "stdout",
          "text": [
            "0      5.1\n",
            "1      3.0\n",
            "2      4.7\n",
            "3      4.6\n",
            "4      5.0\n",
            "      ... \n",
            "145    6.7\n",
            "146    6.3\n",
            "147    6.5\n",
            "148    6.2\n",
            "149    5.9\n",
            "Name: SepalLengthCm, Length: 150, dtype: float64\n"
          ]
        }
      ]
    },
    {
      "cell_type": "code",
      "source": [
        "# Select multiple columns (returns a DataFrame)\n",
        "measurements = df[['SepalLengthCm', 'SepalWidthCm', 'PetalLengthCm', 'PetalWidthCm']]\n",
        "print(measurements)\n"
      ],
      "metadata": {
        "colab": {
          "base_uri": "https://localhost:8080/"
        },
        "id": "2G3NHDWb4EJS",
        "outputId": "e3072452-1114-4a47-b9f6-a386a3f87920"
      },
      "execution_count": 16,
      "outputs": [
        {
          "output_type": "stream",
          "name": "stdout",
          "text": [
            "     SepalLengthCm  SepalWidthCm  PetalLengthCm PetalWidthCm\n",
            "0              5.1           3.5       1.400000          0.2\n",
            "1              3.0           1.4       0.200000  Iris-setosa\n",
            "2              4.7           3.2       1.300000          0.2\n",
            "3              4.6           3.1       1.500000          0.2\n",
            "4              5.0           3.6       3.781757          0.2\n",
            "..             ...           ...            ...          ...\n",
            "145            6.7           3.0       5.200000          2.3\n",
            "146            6.3           2.5       5.000000          1.9\n",
            "147            6.5           3.0       5.200000          2.0\n",
            "148            6.2           3.4       5.400000          2.3\n",
            "149            5.9           3.0       5.100000          1.8\n",
            "\n",
            "[150 rows x 4 columns]\n"
          ]
        }
      ]
    },
    {
      "cell_type": "code",
      "source": [
        "# Filter rows: Get all Iris-setosa samples\n",
        "setosa = df[df['Species'] == 'Iris-setosa']\n",
        "print(setosa)\n"
      ],
      "metadata": {
        "colab": {
          "base_uri": "https://localhost:8080/"
        },
        "id": "w55F9BNO4bEe",
        "outputId": "a1029dcf-0258-49f3-f262-717feb2e0837"
      },
      "execution_count": 17,
      "outputs": [
        {
          "output_type": "stream",
          "name": "stdout",
          "text": [
            "      Id  SepalLengthCm  SepalWidthCm  PetalLengthCm PetalWidthCm      Species\n",
            "0    1.0            5.1           3.5       1.400000          0.2  Iris-setosa\n",
            "2    3.0            4.7           3.2       1.300000          0.2  Iris-setosa\n",
            "3    4.0            4.6           3.1       1.500000          0.2  Iris-setosa\n",
            "4    5.0            5.0           3.6       3.781757          0.2  Iris-setosa\n",
            "5    6.0            5.4           3.9       1.700000          0.4  Iris-setosa\n",
            "6    7.0            4.6           3.4       1.400000          0.3  Iris-setosa\n",
            "7    8.0            5.0           3.4       1.500000          0.2  Iris-setosa\n",
            "8    9.0            4.4           2.9       1.400000          0.2  Iris-setosa\n",
            "9   10.0            4.9           3.1       1.500000          0.1  Iris-setosa\n",
            "10  11.0            5.4           3.7       3.781757          0.2  Iris-setosa\n",
            "11  12.0            4.8           3.4       1.600000          0.2  Iris-setosa\n",
            "12  13.0            4.8           3.0       1.400000          0.1  Iris-setosa\n",
            "13  14.0            4.3           3.0       1.100000          0.1  Iris-setosa\n",
            "14  15.0            5.8           4.0       1.200000          0.2  Iris-setosa\n",
            "15  16.0            5.7           4.4       1.500000          0.4  Iris-setosa\n",
            "16  17.0            5.4           3.9       1.300000          0.4  Iris-setosa\n",
            "17  18.0            5.1           3.5       1.400000          0.3  Iris-setosa\n",
            "18  19.0            5.7           3.8       1.700000          0.3  Iris-setosa\n",
            "19  20.0            5.1           3.8       1.500000          0.3  Iris-setosa\n",
            "20  21.0            5.4           3.4       1.700000          0.2  Iris-setosa\n",
            "21  22.0            5.1           3.7       1.500000          0.4  Iris-setosa\n",
            "22  23.0            4.6           3.6       1.000000          0.2  Iris-setosa\n",
            "23  24.0            5.1           3.3       1.700000          0.5  Iris-setosa\n",
            "24  25.0            4.8           3.4       1.900000          0.2  Iris-setosa\n",
            "25  26.0            5.0           3.0       1.600000          0.2  Iris-setosa\n",
            "26  27.0            5.0           3.4       1.600000          0.4  Iris-setosa\n",
            "27  28.0            5.2           3.5       1.500000          0.2  Iris-setosa\n",
            "28  29.0            5.2           3.4       1.400000          0.2  Iris-setosa\n",
            "29  30.0            4.7           3.2       1.600000          0.2  Iris-setosa\n",
            "30  31.0            4.8           3.1       1.600000          0.2  Iris-setosa\n",
            "31  32.0            5.4           3.4       1.500000          0.4  Iris-setosa\n",
            "32  33.0            5.2           4.1       1.500000          0.1  Iris-setosa\n",
            "33  34.0            5.5           4.2       1.400000          0.2  Iris-setosa\n",
            "34  35.0            4.9           3.1       1.500000          0.1  Iris-setosa\n",
            "35  36.0            5.0           3.2       1.200000          0.2  Iris-setosa\n",
            "36  37.0            5.5           3.5       1.300000          0.2  Iris-setosa\n",
            "37  38.0            4.9           3.1       1.500000          0.1  Iris-setosa\n",
            "38  39.0            4.4           3.0       1.300000          0.2  Iris-setosa\n",
            "39  40.0            5.1           3.4       1.500000          0.2  Iris-setosa\n",
            "40  41.0            5.0           3.5       1.300000          0.3  Iris-setosa\n",
            "41  42.0            4.5           2.3       1.300000          0.3  Iris-setosa\n",
            "42  43.0            4.4           3.2       1.300000          0.2  Iris-setosa\n",
            "43  44.0            5.0           3.5       1.600000          0.6  Iris-setosa\n",
            "44  45.0            5.1           3.8       1.900000          0.4  Iris-setosa\n",
            "45  46.0            4.8           3.0       1.400000          0.3  Iris-setosa\n",
            "46  47.0            5.1           3.8       1.600000          0.2  Iris-setosa\n",
            "47  48.0            4.6           3.2       1.400000          0.2  Iris-setosa\n",
            "48  49.0            5.3           3.7       1.500000          0.2  Iris-setosa\n",
            "49  50.0            5.0           3.3       1.400000          0.2  Iris-setosa\n"
          ]
        }
      ]
    },
    {
      "cell_type": "code",
      "source": [
        "# Filter rows with multiple conditions: Long and wide sepals\n",
        "big_flowers = df[(df['SepalLengthCm'] > 6.5) & (df['SepalWidthCm'] > 3.2)]\n",
        "print(big_flowers)\n"
      ],
      "metadata": {
        "colab": {
          "base_uri": "https://localhost:8080/"
        },
        "id": "xZVEFJUL4dgK",
        "outputId": "6ed037f2-cf9b-42b3-b78f-4dfc080320c6"
      },
      "execution_count": 18,
      "outputs": [
        {
          "output_type": "stream",
          "name": "stdout",
          "text": [
            "        Id  SepalLengthCm  SepalWidthCm  PetalLengthCm PetalWidthCm  \\\n",
            "109  110.0            7.2           3.6            6.1          2.5   \n",
            "117  118.0            7.7           3.8            6.7          2.2   \n",
            "124  125.0            6.7           3.3            5.7          2.1   \n",
            "131  132.0            7.9           3.8            6.4          2.0   \n",
            "144  145.0            6.7           3.3            5.7          2.5   \n",
            "\n",
            "            Species  \n",
            "109  Iris-virginica  \n",
            "117  Iris-virginica  \n",
            "124  Iris-virginica  \n",
            "131  Iris-virginica  \n",
            "144  Iris-virginica  \n"
          ]
        }
      ]
    },
    {
      "cell_type": "code",
      "source": [
        "# Use query() for cleaner syntax\n",
        "versicolor = df.query('Species == \"Iris-versicolor\"')\n",
        "print(versicolor)"
      ],
      "metadata": {
        "colab": {
          "base_uri": "https://localhost:8080/"
        },
        "id": "-ztO0WgX4fj0",
        "outputId": "31c42452-2d23-4c55-acf6-754eeb51d519"
      },
      "execution_count": 19,
      "outputs": [
        {
          "output_type": "stream",
          "name": "stdout",
          "text": [
            "       Id  SepalLengthCm  SepalWidthCm  PetalLengthCm PetalWidthCm  \\\n",
            "50   51.0            7.0           3.2            4.7          1.4   \n",
            "51   52.0            6.4           3.2            4.5          1.5   \n",
            "52   53.0            6.9           3.1            4.9          1.5   \n",
            "53   54.0            5.5           2.3            4.0          1.3   \n",
            "54   55.0            6.5           2.8            4.6          1.5   \n",
            "55   56.0            5.7           2.8            4.5          1.3   \n",
            "56   57.0            6.3           3.3            4.7          1.6   \n",
            "57   58.0            4.9           2.4            3.3          1.0   \n",
            "58   59.0            6.6           2.9            4.6          1.3   \n",
            "59   60.0            5.2           2.7            3.9          1.4   \n",
            "60   61.0            5.0           2.0            3.5          1.0   \n",
            "61   62.0            5.9           3.0            4.2          1.5   \n",
            "62   63.0            6.0           2.2            4.0          1.0   \n",
            "63   64.0            6.1           2.9            4.7          1.4   \n",
            "64   65.0            5.6           2.9            3.6          1.3   \n",
            "65   66.0            6.7           3.1            4.4          1.4   \n",
            "66   67.0            5.6           3.0            4.5          1.5   \n",
            "67   68.0            5.8           2.7            4.1          1.0   \n",
            "68   69.0            6.2           2.2            4.5          1.5   \n",
            "69   70.0            5.6           2.5            3.9          1.1   \n",
            "70   71.0            5.9           3.2            4.8          1.8   \n",
            "71   72.0            6.1           2.8            4.0          1.3   \n",
            "72   73.0            6.3           2.5            4.9          1.5   \n",
            "73   74.0            6.1           2.8            4.7          1.2   \n",
            "74   75.0            6.4           2.9            4.3          1.3   \n",
            "75   76.0            6.6           3.0            4.4          1.4   \n",
            "76   77.0            6.8           2.8            4.8          1.4   \n",
            "77   78.0            6.7           3.0            5.0          1.7   \n",
            "78   79.0            6.0           2.9            4.5          1.5   \n",
            "79   80.0            5.7           2.6            3.5          1.0   \n",
            "80   81.0            5.5           2.4            3.8          1.1   \n",
            "81   82.0            5.5           2.4            3.7          1.0   \n",
            "82   83.0            5.8           2.7            3.9          1.2   \n",
            "83   84.0            6.0           2.7            5.1          1.6   \n",
            "84   85.0            5.4           3.0            4.5          1.5   \n",
            "85   86.0            6.0           3.4            4.5          1.6   \n",
            "86   87.0            6.7           3.1            4.7          1.5   \n",
            "87   88.0            6.3           2.3            4.4          1.3   \n",
            "88   89.0            5.6           3.0            4.1          1.3   \n",
            "89   90.0            5.5           2.5            4.0          1.3   \n",
            "90   91.0            5.5           2.6            4.4          1.2   \n",
            "91   92.0            6.1           3.0            4.6          1.4   \n",
            "92   93.0            5.8           2.6            4.0          1.2   \n",
            "93   94.0            5.0           2.3            3.3          1.0   \n",
            "94   95.0            5.6           2.7            4.2          1.3   \n",
            "95   96.0            5.7           3.0            4.2          1.2   \n",
            "96   97.0            5.7           2.9            4.2          1.3   \n",
            "97   98.0            6.2           2.9            4.3          1.3   \n",
            "98   99.0            5.1           2.5            3.0          1.1   \n",
            "99  100.0            5.7           2.8            4.1          1.3   \n",
            "\n",
            "            Species  \n",
            "50  Iris-versicolor  \n",
            "51  Iris-versicolor  \n",
            "52  Iris-versicolor  \n",
            "53  Iris-versicolor  \n",
            "54  Iris-versicolor  \n",
            "55  Iris-versicolor  \n",
            "56  Iris-versicolor  \n",
            "57  Iris-versicolor  \n",
            "58  Iris-versicolor  \n",
            "59  Iris-versicolor  \n",
            "60  Iris-versicolor  \n",
            "61  Iris-versicolor  \n",
            "62  Iris-versicolor  \n",
            "63  Iris-versicolor  \n",
            "64  Iris-versicolor  \n",
            "65  Iris-versicolor  \n",
            "66  Iris-versicolor  \n",
            "67  Iris-versicolor  \n",
            "68  Iris-versicolor  \n",
            "69  Iris-versicolor  \n",
            "70  Iris-versicolor  \n",
            "71  Iris-versicolor  \n",
            "72  Iris-versicolor  \n",
            "73  Iris-versicolor  \n",
            "74  Iris-versicolor  \n",
            "75  Iris-versicolor  \n",
            "76  Iris-versicolor  \n",
            "77  Iris-versicolor  \n",
            "78  Iris-versicolor  \n",
            "79  Iris-versicolor  \n",
            "80  Iris-versicolor  \n",
            "81  Iris-versicolor  \n",
            "82  Iris-versicolor  \n",
            "83  Iris-versicolor  \n",
            "84  Iris-versicolor  \n",
            "85  Iris-versicolor  \n",
            "86  Iris-versicolor  \n",
            "87  Iris-versicolor  \n",
            "88  Iris-versicolor  \n",
            "89  Iris-versicolor  \n",
            "90  Iris-versicolor  \n",
            "91  Iris-versicolor  \n",
            "92  Iris-versicolor  \n",
            "93  Iris-versicolor  \n",
            "94  Iris-versicolor  \n",
            "95  Iris-versicolor  \n",
            "96  Iris-versicolor  \n",
            "97  Iris-versicolor  \n",
            "98  Iris-versicolor  \n",
            "99  Iris-versicolor  \n"
          ]
        }
      ]
    },
    {
      "cell_type": "markdown",
      "source": [
        "##Grouping & Aggregation"
      ],
      "metadata": {
        "id": "88zl1doT4i6h"
      }
    },
    {
      "cell_type": "code",
      "source": [
        "# Group by species and calculate mean for all numerical columns\n",
        "species_summary = df.groupby('Species').mean(numeric_only=True)\n",
        "print(species_summary)"
      ],
      "metadata": {
        "colab": {
          "base_uri": "https://localhost:8080/"
        },
        "id": "agnvnxMx4gfQ",
        "outputId": "4c547326-4ea3-4d93-a4d7-620fdd0f5a69"
      },
      "execution_count": 20,
      "outputs": [
        {
          "output_type": "stream",
          "name": "stdout",
          "text": [
            "                         Id  SepalLengthCm  SepalWidthCm  PetalLengthCm\n",
            "Species                                                                \n",
            "Iris-setosa       25.979592       5.008163      3.426531        1.56048\n",
            "Iris-versicolor   75.500000       5.936000      2.770000        4.26000\n",
            "Iris-virginica   125.500000       6.588000      2.974000        5.55200\n"
          ]
        }
      ]
    },
    {
      "cell_type": "code",
      "source": [
        "# Get more detailed stats: min, max, mean for sepal length by species\n",
        "detailed_stats = df.groupby('Species')['SepalLengthCm'].agg(['min', 'max', 'mean'])\n",
        "print(detailed_stats)"
      ],
      "metadata": {
        "colab": {
          "base_uri": "https://localhost:8080/"
        },
        "id": "IMHaO_gH4pgf",
        "outputId": "9d555f1c-32a9-4449-96dc-3f157ab38d57"
      },
      "execution_count": 21,
      "outputs": [
        {
          "output_type": "stream",
          "name": "stdout",
          "text": [
            "                 min  max      mean\n",
            "Species                            \n",
            "Iris-setosa      4.3  5.8  5.008163\n",
            "Iris-versicolor  4.9  7.0  5.936000\n",
            "Iris-virginica   4.9  7.9  6.588000\n"
          ]
        }
      ]
    },
    {
      "cell_type": "code",
      "source": [
        "# Count the number of samples per species (again, for clarity)\n",
        "df.groupby('Species').size()"
      ],
      "metadata": {
        "colab": {
          "base_uri": "https://localhost:8080/",
          "height": 209
        },
        "id": "YiUu8PjO4tUs",
        "outputId": "65a1a08d-8fa8-4168-f646-d86a7aaed5e8"
      },
      "execution_count": 22,
      "outputs": [
        {
          "output_type": "execute_result",
          "data": {
            "text/plain": [
              "Species\n",
              "Iris-setosa        49\n",
              "Iris-versicolor    50\n",
              "Iris-virginica     50\n",
              "dtype: int64"
            ],
            "text/html": [
              "<div>\n",
              "<style scoped>\n",
              "    .dataframe tbody tr th:only-of-type {\n",
              "        vertical-align: middle;\n",
              "    }\n",
              "\n",
              "    .dataframe tbody tr th {\n",
              "        vertical-align: top;\n",
              "    }\n",
              "\n",
              "    .dataframe thead th {\n",
              "        text-align: right;\n",
              "    }\n",
              "</style>\n",
              "<table border=\"1\" class=\"dataframe\">\n",
              "  <thead>\n",
              "    <tr style=\"text-align: right;\">\n",
              "      <th></th>\n",
              "      <th>0</th>\n",
              "    </tr>\n",
              "    <tr>\n",
              "      <th>Species</th>\n",
              "      <th></th>\n",
              "    </tr>\n",
              "  </thead>\n",
              "  <tbody>\n",
              "    <tr>\n",
              "      <th>Iris-setosa</th>\n",
              "      <td>49</td>\n",
              "    </tr>\n",
              "    <tr>\n",
              "      <th>Iris-versicolor</th>\n",
              "      <td>50</td>\n",
              "    </tr>\n",
              "    <tr>\n",
              "      <th>Iris-virginica</th>\n",
              "      <td>50</td>\n",
              "    </tr>\n",
              "  </tbody>\n",
              "</table>\n",
              "</div><br><label><b>dtype:</b> int64</label>"
            ]
          },
          "metadata": {},
          "execution_count": 22
        }
      ]
    },
    {
      "cell_type": "markdown",
      "source": [
        "##Sorting Data"
      ],
      "metadata": {
        "id": "gDDZboXk40l1"
      }
    },
    {
      "cell_type": "code",
      "source": [
        "# Sort by Sepal Length (ascending)\n",
        "df_sorted = df.sort_values('SepalLengthCm')\n",
        "print(df_sorted)\n"
      ],
      "metadata": {
        "colab": {
          "base_uri": "https://localhost:8080/"
        },
        "id": "nFp6Rats4wY3",
        "outputId": "bbab44c9-1a72-4f0a-8a81-2804776c82f8"
      },
      "execution_count": 24,
      "outputs": [
        {
          "output_type": "stream",
          "name": "stdout",
          "text": [
            "        Id  SepalLengthCm  SepalWidthCm  PetalLengthCm PetalWidthCm  \\\n",
            "1      0.9            3.0           1.4            0.2  Iris-setosa   \n",
            "13    14.0            4.3           3.0            1.1          0.1   \n",
            "8      9.0            4.4           2.9            1.4          0.2   \n",
            "38    39.0            4.4           3.0            1.3          0.2   \n",
            "42    43.0            4.4           3.2            1.3          0.2   \n",
            "..     ...            ...           ...            ...          ...   \n",
            "122  123.0            7.7           2.8            6.7          2.0   \n",
            "117  118.0            7.7           3.8            6.7          2.2   \n",
            "118  119.0            7.7           2.6            6.9          2.3   \n",
            "135  136.0            7.7           3.0            6.1          2.3   \n",
            "131  132.0            7.9           3.8            6.4          2.0   \n",
            "\n",
            "            Species  \n",
            "1               NaN  \n",
            "13      Iris-setosa  \n",
            "8       Iris-setosa  \n",
            "38      Iris-setosa  \n",
            "42      Iris-setosa  \n",
            "..              ...  \n",
            "122  Iris-virginica  \n",
            "117  Iris-virginica  \n",
            "118  Iris-virginica  \n",
            "135  Iris-virginica  \n",
            "131  Iris-virginica  \n",
            "\n",
            "[150 rows x 6 columns]\n"
          ]
        }
      ]
    },
    {
      "cell_type": "code",
      "source": [
        "# Sort by Species, then by Petal Length (descending)\n",
        "df_sorted = df.sort_values(['Species', 'PetalLengthCm'], ascending=[True, False])\n",
        "print(df_sorted)"
      ],
      "metadata": {
        "colab": {
          "base_uri": "https://localhost:8080/"
        },
        "id": "dU2OG46g4-Ly",
        "outputId": "356c47dd-052c-447b-e558-5eb9d3c0ce15"
      },
      "execution_count": 25,
      "outputs": [
        {
          "output_type": "stream",
          "name": "stdout",
          "text": [
            "        Id  SepalLengthCm  SepalWidthCm  PetalLengthCm PetalWidthCm  \\\n",
            "4      5.0            5.0           3.6       3.781757          0.2   \n",
            "10    11.0            5.4           3.7       3.781757          0.2   \n",
            "24    25.0            4.8           3.4       1.900000          0.2   \n",
            "44    45.0            5.1           3.8       1.900000          0.4   \n",
            "5      6.0            5.4           3.9       1.700000          0.4   \n",
            "..     ...            ...           ...            ...          ...   \n",
            "127  128.0            6.1           3.0       4.900000          1.8   \n",
            "126  127.0            6.2           2.8       4.800000          1.8   \n",
            "138  139.0            6.0           3.0       4.800000          1.8   \n",
            "106  107.0            4.9           2.5       4.500000          1.7   \n",
            "1      0.9            3.0           1.4       0.200000  Iris-setosa   \n",
            "\n",
            "            Species  \n",
            "4       Iris-setosa  \n",
            "10      Iris-setosa  \n",
            "24      Iris-setosa  \n",
            "44      Iris-setosa  \n",
            "5       Iris-setosa  \n",
            "..              ...  \n",
            "127  Iris-virginica  \n",
            "126  Iris-virginica  \n",
            "138  Iris-virginica  \n",
            "106  Iris-virginica  \n",
            "1               NaN  \n",
            "\n",
            "[150 rows x 6 columns]\n"
          ]
        }
      ]
    },
    {
      "cell_type": "markdown",
      "source": [
        "##Advanced Analysis & Visualization Prep"
      ],
      "metadata": {
        "id": "wq3opFPL5K89"
      }
    },
    {
      "cell_type": "code",
      "source": [
        "# Make sure missing values are handled (fill NaN in PetalLengthCm)\n",
        "df['PetalLengthCm'].fillna(df['PetalLengthCm'].mean(), inplace=True)\n",
        "\n",
        "# Create PetalSize column based on PetalLengthCm\n",
        "df['PetalSize'] = df['PetalLengthCm'].apply(\n",
        "    lambda x: 'Small' if x < 3.0 else ('Medium' if x < 5.0 else 'Large')\n",
        ")"
      ],
      "metadata": {
        "colab": {
          "base_uri": "https://localhost:8080/"
        },
        "id": "p18WcFh26kC3",
        "outputId": "5e8ecfbc-062e-4a2b-e718-0108ccdd5d3a"
      },
      "execution_count": 31,
      "outputs": [
        {
          "output_type": "stream",
          "name": "stderr",
          "text": [
            "/tmp/ipython-input-1334360001.py:2: FutureWarning: A value is trying to be set on a copy of a DataFrame or Series through chained assignment using an inplace method.\n",
            "The behavior will change in pandas 3.0. This inplace method will never work because the intermediate object on which we are setting values always behaves as a copy.\n",
            "\n",
            "For example, when doing 'df[col].method(value, inplace=True)', try using 'df.method({col: value}, inplace=True)' or df[col] = df[col].method(value) instead, to perform the operation inplace on the original object.\n",
            "\n",
            "\n",
            "  df['PetalLengthCm'].fillna(df['PetalLengthCm'].mean(), inplace=True)\n"
          ]
        }
      ]
    },
    {
      "cell_type": "markdown",
      "source": [
        "##Exporting your Cleaned?Analyzed Data"
      ],
      "metadata": {
        "id": "jGQb1fEU5-Zx"
      }
    },
    {
      "cell_type": "code",
      "source": [
        "# Save the cleaned DataFrame to a new CSV file\n",
        "df.to_csv('Iris_Cleaned.csv', index=False)\n"
      ],
      "metadata": {
        "id": "65GZtV0T5dj1"
      },
      "execution_count": 30,
      "outputs": []
    },
    {
      "cell_type": "code",
      "source": [],
      "metadata": {
        "id": "igoLnh_a6Vri"
      },
      "execution_count": null,
      "outputs": []
    }
  ]
}
